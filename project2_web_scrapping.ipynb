{
 "cells": [
  {
   "cell_type": "markdown",
   "metadata": {},
   "source": [
    "# Project 2\n",
    "\n",
    "## Predicting NFL All-Pros"
   ]
  },
  {
   "cell_type": "code",
   "execution_count": null,
   "metadata": {},
   "outputs": [],
   "source": [
    "import pandas as pd"
   ]
  },
  {
   "cell_type": "markdown",
   "metadata": {},
   "source": [
    "Here we are collecting the information that www.pro-football-reference.com has on All-Pros from 1970 (year of the merger)\n",
    "until 2021 (last completed season)."
   ]
  },
  {
   "cell_type": "code",
   "execution_count": null,
   "metadata": {},
   "outputs": [],
   "source": [
    "df_ap = pd.DataFrame()\n",
    "\n",
    "for year in range(1970, 2022):\n",
    "    url = 'https://www.pro-football-reference.com/years/' + str(year) + '/allpro.htm'\n",
    "\n",
    "    df_url = pd.read_html(url)[0]\n",
    "\n",
    "    df_url.drop(columns = ['Yrs', 'Cmp', 'Att', 'Yds', 'TD', 'Int', 'Att.1', 'Yds.1', 'TD.1', \n",
    "                           'Rec', 'Yds.2', 'TD.2', 'Solo', 'Sk', 'Int.1'], inplace = True)\n",
    "    \n",
    "    df_url['Year'] = year\n",
    "\n",
    "    df_temp = [df_ap, df_url]\n",
    "\n",
    "    df_ap = pd.concat(df_temp)\n",
    "    \n"
   ]
  },
  {
   "cell_type": "code",
   "execution_count": null,
   "metadata": {},
   "outputs": [],
   "source": [
    "df_ap.rename(columns = {'All-pro teams': 'all_pro'}, inplace = True)"
   ]
  },
  {
   "cell_type": "markdown",
   "metadata": {},
   "source": [
    "Dropping everything but QB since we are focusing on quaterbacks."
   ]
  },
  {
   "cell_type": "code",
   "execution_count": null,
   "metadata": {},
   "outputs": [],
   "source": [
    "df_ap = df_ap[df_ap['Pos'] == 'QB']"
   ]
  },
  {
   "cell_type": "markdown",
   "metadata": {},
   "source": [
    "Dropping all of the rows where a player did not make a AP (Associated Press) team."
   ]
  },
  {
   "cell_type": "code",
   "execution_count": null,
   "metadata": {},
   "outputs": [],
   "source": [
    "df_ap_trimmed = df_ap.loc[df_ap['all_pro'].str.contains('AP')]"
   ]
  },
  {
   "cell_type": "markdown",
   "metadata": {},
   "source": [
    "Creating one hot columns for AP 1st and 2nd Teams."
   ]
  },
  {
   "cell_type": "code",
   "execution_count": null,
   "metadata": {},
   "outputs": [],
   "source": [
    "df_ap_trimmed['ap_1st'] = df_ap_trimmed.all_pro.apply(lambda teams : 1 if (' AP: 1st Tm' in teams.split(',') or 'AP: 1st Tm' in teams.split(',')) else 0)\n",
    "df_ap_trimmed['ap_2nd'] = df_ap_trimmed.all_pro.apply(lambda teams : 1 if (' AP: 2nd Tm' in teams.split(',') or 'AP: 2nd Tm' in teams.split(',')) else 0)"
   ]
  },
  {
   "cell_type": "markdown",
   "metadata": {},
   "source": [
    "Dropping everyone who wasn't on AP 1st or 2nd team."
   ]
  },
  {
   "cell_type": "code",
   "execution_count": null,
   "metadata": {},
   "outputs": [],
   "source": [
    "df_ap = df_ap_trimmed[df_ap_trimmed['ap_1st'] + df_ap_trimmed['ap_2nd'] > 0]"
   ]
  },
  {
   "cell_type": "markdown",
   "metadata": {},
   "source": [
    "Dropping the 'all_pro' column because we don't need it anymore."
   ]
  },
  {
   "cell_type": "code",
   "execution_count": null,
   "metadata": {},
   "outputs": [],
   "source": [
    "df_ap.drop(columns = ['all_pro'], inplace = True)"
   ]
  },
  {
   "cell_type": "code",
   "execution_count": null,
   "metadata": {},
   "outputs": [],
   "source": [
    "df_ap.columns = map(str.lower, df_ap.columns)"
   ]
  },
  {
   "cell_type": "markdown",
   "metadata": {},
   "source": [
    "Removing Dave Lewis, because he was AP 1st Team as a punter in 1970, but was listed as a QB."
   ]
  },
  {
   "cell_type": "code",
   "execution_count": null,
   "metadata": {},
   "outputs": [],
   "source": [
    "df_ap = df_ap.loc[df_ap['player'] != 'Dave Lewis']"
   ]
  },
  {
   "cell_type": "markdown",
   "metadata": {},
   "source": [
    "Pulling the passing data from www.pro-football-reference.com"
   ]
  },
  {
   "cell_type": "code",
   "execution_count": null,
   "metadata": {},
   "outputs": [],
   "source": [
    "df_pass = pd.DataFrame()\n",
    "\n",
    "for year in range(1970, 2022):\n",
    "    url = 'https://www.pro-football-reference.com/years/' + str(year) + '/passing.htm'\n",
    "\n",
    "    df_url = pd.read_html(url)[0]\n",
    "    \n",
    "    df_url = df_url[df_url['Pos'].str.upper() == 'QB']\n",
    "\n",
    "    df_url['year'] = year\n",
    "\n",
    "    df_temp = [df_pass, df_url]\n",
    "\n",
    "    df_pass = pd.concat(df_temp)"
   ]
  },
  {
   "cell_type": "markdown",
   "metadata": {},
   "source": [
    "Removing the QBR and 1D columns, because they don't exist for every year."
   ]
  },
  {
   "cell_type": "code",
   "execution_count": null,
   "metadata": {},
   "outputs": [],
   "source": [
    "df_pass.drop(columns = ['QBR', '1D'], inplace = True)"
   ]
  },
  {
   "cell_type": "code",
   "execution_count": null,
   "metadata": {},
   "outputs": [],
   "source": [
    "df_pass.columns = map(str.lower, df_pass.columns)"
   ]
  },
  {
   "cell_type": "markdown",
   "metadata": {},
   "source": [
    "Splitting 'qbrec' into wins, loses, and ties. And then dropping 'qbrec'."
   ]
  },
  {
   "cell_type": "code",
   "execution_count": null,
   "metadata": {},
   "outputs": [],
   "source": [
    "df_pass[['wins', 'loses', 'ties']] = df_pass['qbrec'].str.split('-', expand = True)"
   ]
  },
  {
   "cell_type": "code",
   "execution_count": null,
   "metadata": {},
   "outputs": [],
   "source": [
    "df_pass.drop(columns = 'qbrec', inplace = True)"
   ]
  },
  {
   "cell_type": "markdown",
   "metadata": {},
   "source": [
    "Capitalizing all of 'pos' so it is consistent."
   ]
  },
  {
   "cell_type": "code",
   "execution_count": null,
   "metadata": {},
   "outputs": [],
   "source": [
    "df_pass['pos'] = df_pass['pos'].apply(str.upper)"
   ]
  },
  {
   "cell_type": "markdown",
   "metadata": {},
   "source": [
    "The website we're pulling from using '*' and '+' appended to names to represent different awards, so \n",
    "we need to remove them so we can join later."
   ]
  },
  {
   "cell_type": "code",
   "execution_count": null,
   "metadata": {},
   "outputs": [],
   "source": [
    "df_pass['player'] = df_pass['player'].apply(lambda x : x.replace('*', ''))"
   ]
  },
  {
   "cell_type": "code",
   "execution_count": null,
   "metadata": {},
   "outputs": [],
   "source": [
    "df_pass['player'] = df_pass['player'].apply(lambda x : x.replace('+', ''))"
   ]
  },
  {
   "cell_type": "markdown",
   "metadata": {},
   "source": [
    "Replacing NaN's with 0, because if the value is missing, it means they did not have any of that category."
   ]
  },
  {
   "cell_type": "code",
   "execution_count": null,
   "metadata": {},
   "outputs": [],
   "source": [
    "df_pass.fillna(0, inplace = True)"
   ]
  },
  {
   "cell_type": "markdown",
   "metadata": {},
   "source": [
    "Renaming columns, mostly to differentiate them from the rushing stats later."
   ]
  },
  {
   "cell_type": "code",
   "execution_count": null,
   "metadata": {},
   "outputs": [],
   "source": [
    "df_pass.rename(columns = {'att': 'pass_att', 'yds': 'pass_yds', 'td': 'pass_td', 'lng': 'pass_lng', 'y/a': 'pass_y/a',\n",
    "                           'y/g': 'pass_y/g', 'yds.1': 'yards_lost_sack', 'rk': 'pass_rk'}, inplace = True)"
   ]
  },
  {
   "cell_type": "code",
   "execution_count": null,
   "metadata": {},
   "outputs": [],
   "source": [
    "df_rush = pd.DataFrame()\n",
    "\n",
    "for year in range(1970, 2022):\n",
    "    url = 'https://www.pro-football-reference.com/years/' + str(year) + '/rushing.htm'\n",
    "\n",
    "    df_url = pd.read_html(url)[0]\n",
    "\n",
    "    df_url = df_url[df_url[( 'Unnamed: 4_level_0',    'Pos')].str.upper() == 'QB']\n",
    "\n",
    "    df_url['Year'] = year\n",
    "\n",
    "    df_temp = [df_rush, df_url]\n",
    "\n",
    "    df_rush = pd.concat(df_temp)"
   ]
  },
  {
   "cell_type": "markdown",
   "metadata": {},
   "source": [
    "The table was formatted weird, so I'm just manually renaming all the columns."
   ]
  },
  {
   "cell_type": "code",
   "execution_count": null,
   "metadata": {},
   "outputs": [],
   "source": [
    "df_rush.columns = ['rush_rk', 'player', 'tm', 'age', 'pos', 'g', 'gs', 'rush_att', 'rush_yds', \n",
    "                   'rush_td', 'rush_lng', 'rush_y/a', 'rush_y/g', 'fmb.1', 'year', 'drop', 'fmb.2']"
   ]
  },
  {
   "cell_type": "markdown",
   "metadata": {},
   "source": [
    "Drop 1D (first downs), because it was not always tracked."
   ]
  },
  {
   "cell_type": "code",
   "execution_count": null,
   "metadata": {},
   "outputs": [],
   "source": [
    "df_rush.drop(columns = ['drop'], inplace = True)"
   ]
  },
  {
   "cell_type": "code",
   "execution_count": null,
   "metadata": {},
   "outputs": [],
   "source": [
    "df_pass['player'] = df_pass['player'].apply(lambda x : x.replace('*', ''))\n",
    "df_pass['player'] = df_pass['player'].apply(lambda x : x.replace('+', ''))"
   ]
  },
  {
   "cell_type": "markdown",
   "metadata": {},
   "source": [
    "All other stats should be 0 if they don't exist."
   ]
  },
  {
   "cell_type": "code",
   "execution_count": null,
   "metadata": {},
   "outputs": [],
   "source": [
    "df_rush.fillna(0, inplace = True)"
   ]
  },
  {
   "cell_type": "markdown",
   "metadata": {},
   "source": [
    "Because the table was formatted weirdly, it store fumbles into two different columns. It seems to have only\n",
    "stored it in one column each year, so I was able to just add them together to fix it."
   ]
  },
  {
   "cell_type": "code",
   "execution_count": null,
   "metadata": {},
   "outputs": [],
   "source": [
    "df_rush['fmb'] = df_rush['fmb.1'].astype('int') + df_rush['fmb.2'].astype('int')"
   ]
  },
  {
   "cell_type": "code",
   "execution_count": null,
   "metadata": {},
   "outputs": [],
   "source": [
    "df_rush.drop(columns = ['fmb.1', 'fmb.2'], inplace = True)"
   ]
  },
  {
   "cell_type": "code",
   "execution_count": null,
   "metadata": {},
   "outputs": [],
   "source": [
    "df_rush['pos'] = df_rush['pos'].apply(str.upper)"
   ]
  },
  {
   "cell_type": "markdown",
   "metadata": {},
   "source": [
    "Using outer joins to combine the tables."
   ]
  },
  {
   "cell_type": "code",
   "execution_count": null,
   "metadata": {},
   "outputs": [],
   "source": [
    "df_p_r = pd.merge(df_pass, df_rush, how = 'left', on = ['player', 'year', 'tm', 'pos', 'age', 'pos', 'g', 'gs'])"
   ]
  },
  {
   "cell_type": "code",
   "execution_count": null,
   "metadata": {},
   "outputs": [],
   "source": [
    "df_p_r[['age', 'g', 'gs']] = df_p_r[['age', 'g', 'gs']].astype(int)"
   ]
  },
  {
   "cell_type": "code",
   "execution_count": null,
   "metadata": {},
   "outputs": [],
   "source": [
    "df = pd.merge(df_p_r, df_ap, how = \"left\", on = ['player', 'year', 'tm', 'pos', 'age', 'g', 'gs'] )"
   ]
  },
  {
   "cell_type": "code",
   "execution_count": null,
   "metadata": {},
   "outputs": [],
   "source": [
    "df.fillna(0, inplace = True)"
   ]
  },
  {
   "cell_type": "code",
   "execution_count": null,
   "metadata": {},
   "outputs": [],
   "source": [
    "df[['ap_1st', 'ap_2nd', 'fmb']] = df[['ap_1st', 'ap_2nd', 'fmb']].astype(int)"
   ]
  },
  {
   "cell_type": "code",
   "execution_count": null,
   "metadata": {},
   "outputs": [],
   "source": [
    "df = df[['year', 'player', 'tm', 'age', 'pos', 'g', 'gs', 'wins', 'loses', 'ties', 'pass_rk', 'cmp', 'pass_att', 'cmp%', 'pass_yds',\n",
    "         'pass_td', 'td%', 'int', 'int%', 'pass_lng', 'pass_y/a', 'ay/a', 'y/c', 'pass_y/g', 'rate',\n",
    "         'sk', 'yards_lost_sack', 'sk%', 'ny/a', 'any/a', '4qc', 'gwd', 'rush_rk', 'rush_att', 'rush_yds',\n",
    "         'rush_td', 'rush_lng', 'rush_y/a', 'rush_y/g', 'fmb', 'ap_1st', 'ap_2nd' ]]"
   ]
  },
  {
   "cell_type": "code",
   "execution_count": null,
   "metadata": {},
   "outputs": [],
   "source": [
    "df.to_csv('nfl_qb.csv', index = False)"
   ]
  }
 ],
 "metadata": {
  "kernelspec": {
   "display_name": "Python 3.8.10 64-bit",
   "language": "python",
   "name": "python3"
  },
  "language_info": {
   "codemirror_mode": {
    "name": "ipython",
    "version": 3
   },
   "file_extension": ".py",
   "mimetype": "text/x-python",
   "name": "python",
   "nbconvert_exporter": "python",
   "pygments_lexer": "ipython3",
   "version": "3.8.10"
  },
  "orig_nbformat": 4,
  "vscode": {
   "interpreter": {
    "hash": "916dbcbb3f70747c44a77c7bcd40155683ae19c65e1c03b4aa3499c5328201f1"
   }
  }
 },
 "nbformat": 4,
 "nbformat_minor": 2
}
